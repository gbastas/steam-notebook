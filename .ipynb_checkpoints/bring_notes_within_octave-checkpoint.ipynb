{
 "cells": [
  {
   "cell_type": "code",
   "execution_count": 3,
   "metadata": {},
   "outputs": [],
   "source": [
    "Diastimata = []\n",
    "pempti = 3/2\n",
    "for i in [-1,0,1,2,3,4,5]:\n",
    "    Diastimata.append(pempti**i)\n",
    "print(Diastimata)"
   ]
  },
  {
   "cell_type": "code",
   "execution_count": 7,
   "metadata": {},
   "outputs": [],
   "source": [
    "for diastima in Diastimata:\n",
    "    if diastima<1:\n",
    "        #### Αλλάξτε την παρακάτω γραμμή ####\n",
    "        diastima_new = diastima\n",
    "    elif diastima>2:\n",
    "        #### Αλλάξτε την παρακάτω γραμμή ####\n",
    "        diastima_new = diastima\n",
    "    else:\n",
    "        diastima_new = diastima\n",
    "    print(diastima_new)"
   ]
  }
 ],
 "metadata": {
  "kernelspec": {
   "display_name": "Python 3 (ipykernel)",
   "language": "python",
   "name": "python3"
  },
  "language_info": {
   "codemirror_mode": {
    "name": "ipython",
    "version": 3
   },
   "file_extension": ".py",
   "mimetype": "text/x-python",
   "name": "python",
   "nbconvert_exporter": "python",
   "pygments_lexer": "ipython3",
   "version": "3.9.12"
  }
 },
 "nbformat": 4,
 "nbformat_minor": 4
}
